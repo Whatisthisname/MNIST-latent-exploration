{
 "cells": [
  {
   "cell_type": "markdown",
   "metadata": {},
   "source": [
    "### imports"
   ]
  },
  {
   "cell_type": "code",
   "execution_count": null,
   "metadata": {},
   "outputs": [],
   "source": [
    "from msilib.schema import RadioButton\n",
    "from time import sleep\n",
    "from matplotlib import pyplot as plt\n",
    "import numpy as np\n",
    "import sklearn\n",
    "from sklearn.decomposition import PCA\n",
    "from sklearn.manifold import TSNE\n",
    "from sklearn.preprocessing import StandardScaler\n",
    "import torch.nn as nn\n",
    "from torchvision.datasets import mnist\n",
    "from torch.nn import CrossEntropyLoss\n",
    "from torch.optim import SGD\n",
    "from torch.utils.data import DataLoader\n",
    "from torchvision.transforms import ToTensor\n",
    "import torch\n",
    "import keyboard\n",
    "from matplotlib.widgets import Slider, Button, RadioButtons\n",
    "\n",
    "import warnings\n",
    "warnings.filterwarnings(\"ignore\")\n",
    "\n",
    "# get the data\n",
    "train_dataset = mnist.MNIST(root='./ass3/train', train=True, transform=ToTensor(), download=True)\n",
    "\n",
    "# put data into dataloader:\n",
    "train_loader = DataLoader(train_dataset, batch_size=256)\n",
    "\n",
    "# make a custom dataloader\n",
    "class SelfSupervisionDataLoader(DataLoader):\n",
    "    \n",
    "    def __init__(self, loader : DataLoader, transform=None, num_classes=10):\n",
    "        \"\"\"If transform is not specified, the data is returned as is (for supervised learning).\n",
    "Otherwise, the data is transformed, and the labels are the original data.\"\"\"\n",
    "        self.loader = loader\n",
    "        self.transform = transform\n",
    "        self.num_classes = num_classes\n",
    "    \n",
    "    def __iter__(self):\n",
    "        for batch in self.loader:\n",
    "            data, labels = batch\n",
    "            # labels = torch.eye(self.num_classes)[labels]\n",
    "            if self.transform is not None:\n",
    "                labels = data.clone().double()\n",
    "                data = self.transform(data)\n",
    "            yield data, labels\n",
    "\n",
    "# function to add noise to the data\n",
    "def addNoise(data, noise_level = 0.3):\n",
    "    noise = np.random.normal(0, noise_level, size=data.shape)\n",
    "    # clamp values of data to be between 0 and 1\n",
    "    data = np.clip(data + noise, 0, 1)\n",
    "    return data\n"
   ]
  }
 ],
 "metadata": {
  "language_info": {
   "name": "python"
  },
  "orig_nbformat": 4
 },
 "nbformat": 4,
 "nbformat_minor": 2
}
